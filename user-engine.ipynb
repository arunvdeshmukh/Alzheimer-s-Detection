{
 "cells": [
  {
   "cell_type": "code",
   "execution_count": null,
   "metadata": {},
   "outputs": [
    {
     "name": "stdout",
     "output_type": "stream",
     "text": [
      " * Serving Flask app '__main__'\n",
      " * Debug mode: off\n"
     ]
    },
    {
     "name": "stderr",
     "output_type": "stream",
     "text": [
      "WARNING: This is a development server. Do not use it in a production deployment. Use a production WSGI server instead.\n",
      " * Running on http://127.0.0.1:5000\n",
      "Press CTRL+C to quit\n",
      "127.0.0.1 - - [31/Mar/2025 23:14:55] \"GET / HTTP/1.1\" 200 -\n",
      "127.0.0.1 - - [31/Mar/2025 23:14:55] \"GET /static/assets/twitter.png HTTP/1.1\" 304 -\n",
      "127.0.0.1 - - [31/Mar/2025 23:14:55] \"GET /static/assets/instagram.png HTTP/1.1\" 304 -\n",
      "127.0.0.1 - - [31/Mar/2025 23:14:55] \"GET /static/assets/linkedin.png HTTP/1.1\" 304 -\n",
      "127.0.0.1 - - [31/Mar/2025 23:14:55] \"GET /static/assets/pexels-tima-miroshnichenko-6010766.mp4 HTTP/1.1\" 206 -\n",
      "127.0.0.1 - - [31/Mar/2025 23:14:55] \"GET /static/assets/pexels-tima-miroshnichenko-6010766.mp4 HTTP/1.1\" 206 -\n",
      "127.0.0.1 - - [31/Mar/2025 23:15:00] \"GET /favicon.ico HTTP/1.1\" 404 -\n"
     ]
    },
    {
     "name": "stdout",
     "output_type": "stream",
     "text": [
      "mildDem8.jpg\n"
     ]
    },
    {
     "name": "stderr",
     "output_type": "stream",
     "text": [
      "C:\\Users\\deshm\\AppData\\Roaming\\Python\\Python310\\site-packages\\keras\\src\\saving\\saving_lib.py:757: UserWarning: Skipping variable loading for optimizer 'adam', because it has 86 variables whereas the saved optimizer has 2 variables. \n",
      "  saveable.load_own_variables(weights_store.get(inner_path))\n"
     ]
    },
    {
     "name": "stdout",
     "output_type": "stream",
     "text": [
      "\u001b[1m1/1\u001b[0m \u001b[32m━━━━━━━━━━━━━━━━━━━━\u001b[0m\u001b[37m\u001b[0m \u001b[1m1s\u001b[0m 603ms/step\n"
     ]
    },
    {
     "name": "stderr",
     "output_type": "stream",
     "text": [
      "127.0.0.1 - - [31/Mar/2025 23:15:07] \"POST / HTTP/1.1\" 200 -\n",
      "127.0.0.1 - - [31/Mar/2025 23:15:07] \"GET /static/assets/linkedin.png HTTP/1.1\" 304 -\n",
      "127.0.0.1 - - [31/Mar/2025 23:15:07] \"GET /static/assets/twitter.png HTTP/1.1\" 304 -\n",
      "127.0.0.1 - - [31/Mar/2025 23:15:07] \"GET /static/assets/instagram.png HTTP/1.1\" 304 -\n"
     ]
    },
    {
     "name": "stdout",
     "output_type": "stream",
     "text": [
      "Mild Dementia\n",
      "ADNI_130_S_4405_MR_Axial_T2-Star__br_raw_20160205162420512_22_S367166_I622493.jpg\n",
      "\u001b[1m1/1\u001b[0m \u001b[32m━━━━━━━━━━━━━━━━━━━━\u001b[0m\u001b[37m\u001b[0m \u001b[1m0s\u001b[0m 369ms/step\n"
     ]
    },
    {
     "name": "stderr",
     "output_type": "stream",
     "text": [
      "127.0.0.1 - - [31/Mar/2025 23:15:48] \"POST / HTTP/1.1\" 200 -\n",
      "127.0.0.1 - - [31/Mar/2025 23:15:48] \"GET /static/assets/linkedin.png HTTP/1.1\" 304 -\n",
      "127.0.0.1 - - [31/Mar/2025 23:15:48] \"GET /static/assets/twitter.png HTTP/1.1\" 304 -\n",
      "127.0.0.1 - - [31/Mar/2025 23:15:48] \"GET /static/assets/instagram.png HTTP/1.1\" 304 -\n"
     ]
    },
    {
     "name": "stdout",
     "output_type": "stream",
     "text": [
      "Mild Dementia\n",
      "AD_3181.png\n",
      "\u001b[1m1/1\u001b[0m \u001b[32m━━━━━━━━━━━━━━━━━━━━\u001b[0m\u001b[37m\u001b[0m \u001b[1m0s\u001b[0m 370ms/step\n"
     ]
    },
    {
     "name": "stderr",
     "output_type": "stream",
     "text": [
      "127.0.0.1 - - [31/Mar/2025 23:16:09] \"POST / HTTP/1.1\" 200 -\n",
      "127.0.0.1 - - [31/Mar/2025 23:16:09] \"GET /static/assets/linkedin.png HTTP/1.1\" 304 -\n",
      "127.0.0.1 - - [31/Mar/2025 23:16:09] \"GET /static/assets/twitter.png HTTP/1.1\" 304 -\n",
      "127.0.0.1 - - [31/Mar/2025 23:16:09] \"GET /static/assets/instagram.png HTTP/1.1\" 304 -\n"
     ]
    },
    {
     "name": "stdout",
     "output_type": "stream",
     "text": [
      "No Dementia, Patient is Safe\n",
      "CONTROLAD_3180.png\n",
      "\u001b[1m1/1\u001b[0m \u001b[32m━━━━━━━━━━━━━━━━━━━━\u001b[0m\u001b[37m\u001b[0m \u001b[1m0s\u001b[0m 370ms/step\n"
     ]
    },
    {
     "name": "stderr",
     "output_type": "stream",
     "text": [
      "127.0.0.1 - - [31/Mar/2025 23:16:35] \"POST / HTTP/1.1\" 200 -\n",
      "127.0.0.1 - - [31/Mar/2025 23:16:35] \"GET /static/assets/linkedin.png HTTP/1.1\" 304 -\n",
      "127.0.0.1 - - [31/Mar/2025 23:16:35] \"GET /static/assets/twitter.png HTTP/1.1\" 304 -\n",
      "127.0.0.1 - - [31/Mar/2025 23:16:35] \"GET /static/assets/instagram.png HTTP/1.1\" 304 -\n"
     ]
    },
    {
     "name": "stdout",
     "output_type": "stream",
     "text": [
      "No Dementia, Patient is Safe\n"
     ]
    },
    {
     "name": "stderr",
     "output_type": "stream",
     "text": [
      "127.0.0.1 - - [31/Mar/2025 23:18:55] \"GET / HTTP/1.1\" 200 -\n",
      "127.0.0.1 - - [31/Mar/2025 23:18:55] \"GET /static/assets/linkedin.png HTTP/1.1\" 304 -\n",
      "127.0.0.1 - - [31/Mar/2025 23:18:55] \"GET /static/assets/twitter.png HTTP/1.1\" 304 -\n",
      "127.0.0.1 - - [31/Mar/2025 23:18:55] \"GET /static/assets/instagram.png HTTP/1.1\" 304 -\n",
      "127.0.0.1 - - [31/Mar/2025 23:18:55] \"GET /static/assets/pexels-tima-miroshnichenko-6010766.mp4 HTTP/1.1\" 206 -\n"
     ]
    }
   ],
   "source": [
    "import os\n",
    "import urllib.request\n",
    "from flask import Flask, flash, request, redirect, url_for, render_template\n",
    "from werkzeug.utils import secure_filename\n",
    "import numpy as np\n",
    "import tensorflow as tf\n",
    "\n",
    "ASSET_FOLDER = 'static/assets/'\n",
    "\n",
    "app = Flask(__name__)\n",
    "app.config['ASSET_FOLDER'] = ASSET_FOLDER\n",
    "\n",
    "github_icon = os.path.join(app.config['ASSET_FOLDER'], 'github.png')\n",
    "linkedin_icon = os.path.join(app.config['ASSET_FOLDER'], 'linkedin.png')\n",
    "instagram_icon = os.path.join(app.config['ASSET_FOLDER'], 'instagram.png')\n",
    "twitter_icon = os.path.join(app.config['ASSET_FOLDER'], 'twitter.png')\n",
    "bg_video = os.path.join(app.config['ASSET_FOLDER'], 'pexels-tima-miroshnichenko-6010766.mp4')\n",
    "    \n",
    "@app.route('/')\n",
    "def upload_form():\n",
    "    return render_template('index.html', type=\"\", githubicon=github_icon, linkedinicon=linkedin_icon, instagramicon=instagram_icon, twittericon=twitter_icon, bgvideo=bg_video)\n",
    "\n",
    "@app.route('/', methods=['POST'])\n",
    "def upload_image():\n",
    "    file = request.files['file']\n",
    "    print(file.filename)\n",
    "    file.save(os.path.join(\"static/uploads\", secure_filename(file.filename)))\n",
    "\n",
    "    imvar = tf.keras.preprocessing.image.load_img(os.path.join(\"static/uploads\", secure_filename(file.filename))).resize((176, 176))\n",
    "    imarr = tf.keras.preprocessing.image.img_to_array(imvar)\n",
    "    imarr = np.array([imarr])\n",
    "    model = tf.keras.models.load_model(\"saved_model.keras\")\n",
    "    impred = model.predict(imarr)\n",
    "\n",
    "    def roundoff(arr):\n",
    "        \"\"\"To round off according to the argmax of each predicted label array. \"\"\"\n",
    "        arr[np.argwhere(arr != arr.max())] = 0\n",
    "        arr[np.argwhere(arr == arr.max())] = 1\n",
    "        return arr\n",
    "\n",
    "    for classpreds in impred:\n",
    "        impred = roundoff(classpreds)\n",
    "    \n",
    "    classcount = 1\n",
    "    for count in range(4):\n",
    "        if impred[count] == 1.0:\n",
    "            break\n",
    "        else:\n",
    "            classcount+=1\n",
    "    \n",
    "    classdict = {1: \"Mild Dementia\", 2: \"Moderate Dementia\", 3: \"No Dementia, Patient is Safe\", 4: \"Very Mild Dementia\"}\n",
    "    print(classdict[classcount])\n",
    "\n",
    "    c = 'xyz'\n",
    "    return render_template('index.html', type=\"Patient is suffering from \"+str(classdict[classcount]), githubicon=github_icon, linkedinicon=linkedin_icon, instagramicon=instagram_icon, twittericon=twitter_icon, bgvideo=bg_video)\n",
    "\n",
    "if __name__ == \"__main__\":\n",
    "    app.run()"
   ]
  },
  {
   "cell_type": "code",
   "execution_count": null,
   "metadata": {},
   "outputs": [],
   "source": []
  }
 ],
 "metadata": {
  "kernelspec": {
   "display_name": "Python 3",
   "language": "python",
   "name": "python3"
  },
  "language_info": {
   "codemirror_mode": {
    "name": "ipython",
    "version": 3
   },
   "file_extension": ".py",
   "mimetype": "text/x-python",
   "name": "python",
   "nbconvert_exporter": "python",
   "pygments_lexer": "ipython3",
   "version": "3.10.11"
  },
  "orig_nbformat": 4
 },
 "nbformat": 4,
 "nbformat_minor": 2
}
